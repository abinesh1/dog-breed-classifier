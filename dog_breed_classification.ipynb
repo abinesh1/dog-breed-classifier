{
 "cells": [
  {
   "cell_type": "code",
   "execution_count": 1,
   "metadata": {},
   "outputs": [],
   "source": [
    "import pandas as pd\n",
    "import numpy as np\n",
    "\n",
    "import os, shutil"
   ]
  },
  {
   "cell_type": "code",
   "execution_count": 2,
   "metadata": {},
   "outputs": [],
   "source": [
    "original_train_dir = 'train'\n",
    "test_dir = 'test'\n"
   ]
  },
  {
   "cell_type": "code",
   "execution_count": 3,
   "metadata": {},
   "outputs": [
    {
     "name": "stdout",
     "output_type": "stream",
     "text": [
      "There are 120\n"
     ]
    }
   ],
   "source": [
    "train_labels = np.array(pd.read_csv('labels.csv'))\n",
    "classes, counts = np.unique(train_labels[:, 1], return_counts=True)\n",
    "\n",
    "print(\"There are %d\" % classes.size)"
   ]
  },
  {
   "cell_type": "code",
   "execution_count": 4,
   "metadata": {},
   "outputs": [],
   "source": [
    "def mkdirIfNotExist(directory):\n",
    "    if not os.path.exists(directory):\n",
    "        os.mkdir(directory)\n",
    "    return directory"
   ]
  },
  {
   "cell_type": "code",
   "execution_count": 5,
   "metadata": {},
   "outputs": [],
   "source": [
    "base_dir = mkdirIfNotExist('./data_gen')\n",
    "train_dir = mkdirIfNotExist(os.path.join(base_dir, 'train'))\n",
    "validation_dir = mkdirIfNotExist(os.path.join(base_dir, 'validation'))\n",
    "test_dir = mkdirIfNotExist(os.path.join(base_dir, 'test'))"
   ]
  },
  {
   "cell_type": "code",
   "execution_count": 6,
   "metadata": {},
   "outputs": [],
   "source": [
    "for c in classes[:]:\n",
    "    mkdirIfNotExist(os.path.join(train_dir, c))\n",
    "    mkdirIfNotExist(os.path.join(validation_dir, c))"
   ]
  },
  {
   "cell_type": "code",
   "execution_count": 7,
   "metadata": {},
   "outputs": [],
   "source": [
    "def copyIfNotExist(fnames, src_dir, dst_dir):\n",
    "    nCopied = 0\n",
    "    for fname in fnames:\n",
    "        src = os.path.join(src_dir, fname)\n",
    "        dst = os.path.join(dst_dir, fname)\n",
    "        if not os.path.exists(dst):\n",
    "            shutil.copyfile(src, dst)\n",
    "            nCopied += 1\n",
    "    if nCopied > 0:\n",
    "        print(\"Copied %d to %s\" % (nCopied, dst_dir))\n"
   ]
  },
  {
   "cell_type": "code",
   "execution_count": 8,
   "metadata": {},
   "outputs": [],
   "source": [
    "train_ratio = 0.7\n",
    "for c in classes[:]:\n",
    "    fnames = train_labels[train_labels[:, 1] == c][:, 0]\n",
    "    fnames = ['{}.jpg'.format(name) for name in fnames]\n",
    "    idx = int(len(fnames) * (1 - train_ratio))\n",
    "    val_fnames = fnames[:idx]\n",
    "    train_fnames = fnames[idx:]\n",
    "    train_class_dir = os.path.join(train_dir, c)\n",
    "    validation_class_dir = os.path.join(validation_dir, c)\n",
    "    copyIfNotExist(train_fnames, original_train_dir, train_class_dir)\n",
    "    copyIfNotExist(val_fnames, original_train_dir, validation_class_dir)\n"
   ]
  },
  {
   "cell_type": "code",
   "execution_count": 9,
   "metadata": {},
   "outputs": [
    {
     "name": "stderr",
     "output_type": "stream",
     "text": [
      "C:\\Anaconda3\\envs\\tensorflow\\lib\\site-packages\\h5py\\__init__.py:36: FutureWarning: Conversion of the second argument of issubdtype from `float` to `np.floating` is deprecated. In future, it will be treated as `np.float64 == np.dtype(float).type`.\n",
      "  from ._conv import register_converters as _register_converters\n",
      "Using TensorFlow backend.\n"
     ]
    }
   ],
   "source": [
    "from sklearn.datasets import load_files       \n",
    "\n",
    "from keras import applications\n",
    "from keras.utils import np_utils\n",
    "from keras.layers import Dropout, Flatten, Dense, BatchNormalization\n",
    "from keras.models import Sequential\n",
    "from keras.callbacks import ModelCheckpoint\n",
    "from keras.preprocessing import image                  \n",
    "\n",
    "from tqdm import tqdm\n",
    "from PIL import ImageFile                            \n",
    "ImageFile.LOAD_TRUNCATED_IMAGES = True  \n",
    "\n",
    "import pandas as pd\n",
    "import numpy as np\n",
    "import glob\n",
    "import os"
   ]
  },
  {
   "cell_type": "code",
   "execution_count": 10,
   "metadata": {},
   "outputs": [],
   "source": [
    "train_dir = 'data_gen/train'\n",
    "val_dir = 'data_gen/validation'\n",
    "test_dir = 'data/test'"
   ]
  },
  {
   "cell_type": "code",
   "execution_count": 11,
   "metadata": {},
   "outputs": [],
   "source": [
    "def path_to_tensor(img_path):\n",
    "    # loads RGB image as PIL.Image.Image type\n",
    "    img = image.load_img(img_path, target_size=(224, 224))\n",
    "    # convert PIL.Image.Image type to 3D tensor with shape (224, 224, 3)\n",
    "    x = image.img_to_array(img)\n",
    "    # convert 3D tensor to 4D tensor with shape (1, 224, 224, 3) and return 4D tensor\n",
    "    return np.expand_dims(x, axis=0)"
   ]
  },
  {
   "cell_type": "code",
   "execution_count": 12,
   "metadata": {},
   "outputs": [],
   "source": [
    "def paths_to_tensor(img_paths):\n",
    "    list_of_tensors = [path_to_tensor(img_path) for img_path in tqdm(img_paths)]\n",
    "    return np.vstack(list_of_tensors)"
   ]
  },
  {
   "cell_type": "code",
   "execution_count": 13,
   "metadata": {},
   "outputs": [],
   "source": [
    "def generate_bottleneck_features():\n",
    "    model = applications.ResNet50(include_top=False, weights='imagenet')\n",
    "\n",
    "    #train_files = load_files(train_dir)\n",
    "    #train_tensors = paths_to_tensor(train_files['filenames'])\n",
    "    #train_data = applications.resnet50.preprocess_input(train_tensors)\n",
    "    #train_files, train_tensors=None, None\n",
    "        \n",
    "    #bottleneck_features_train = model.predict(\n",
    "        #train_data, batch_size=16)\n",
    "\n",
    "    #np.save('bottleneck_features/train.npy', bottleneck_features_train)\n",
    "    \n",
    "    #bottleneck_features_train = None\n",
    "\n",
    "    val_files = load_files(val_dir)\n",
    "    val_tensors = paths_to_tensor(val_files['filenames'])\n",
    "    val_data = applications.resnet50.preprocess_input(val_tensors)\n",
    "    val_files, val_tensors=None, None\n",
    "    \n",
    "    bottleneck_features_validation = model.predict(\n",
    "        val_data, batch_size=16)\n",
    "    \n",
    "    \n",
    "    np.save('bottleneck_features/validation.npy', bottleneck_features_validation)\n",
    "    bottleneck_features_validation = None"
   ]
  },
  {
   "cell_type": "code",
   "execution_count": 14,
   "metadata": {},
   "outputs": [],
   "source": [
    "def generate_bottleneck_features_test():\n",
    "    # build the network\n",
    "    model = applications.ResNet50(include_top=False, weights='imagenet')\n",
    "\n",
    "    files = glob.glob('test/*.jpg')\n",
    "    tensors = paths_to_tensor(files)\n",
    "    data = applications.resnet50.preprocess_input(tensors)\n",
    "        \n",
    "    bottleneck_features = model.predict(\n",
    "        data, batch_size=16)\n",
    "    \n",
    "    \n",
    "\n",
    "    np.save('bottleneck_features/test.npy', bottleneck_features)\n",
    "    bottleneck_features, files, tensors= None, None, None"
   ]
  },
  {
   "cell_type": "code",
   "execution_count": 15,
   "metadata": {},
   "outputs": [],
   "source": [
    "def load_labels(path):\n",
    "    data = load_files(path)\n",
    "    labels = np_utils.to_categorical(np.array(data['target']), 120)\n",
    "\n",
    "    return labels"
   ]
  },
  {
   "cell_type": "code",
   "execution_count": 16,
   "metadata": {},
   "outputs": [],
   "source": [
    "def extract_Resnet50(tensor):\n",
    "    return ResNet50(weights='imagenet', include_top=False).predict(preprocess_input(tensor))"
   ]
  },
  {
   "cell_type": "code",
   "execution_count": 17,
   "metadata": {
    "scrolled": true
   },
   "outputs": [],
   "source": [
    "## Create bottleneck features\n",
    "#generate_bottleneck_features()"
   ]
  },
  {
   "cell_type": "code",
   "execution_count": 18,
   "metadata": {},
   "outputs": [],
   "source": [
    "#np.save(\"train.npy\", bottleneck_features_train)"
   ]
  },
  {
   "cell_type": "code",
   "execution_count": 19,
   "metadata": {},
   "outputs": [
    {
     "name": "stdout",
     "output_type": "stream",
     "text": [
      "Loading training bottleneck features\n",
      "Loading validation bottleneck features\n"
     ]
    }
   ],
   "source": [
    "print('Loading training bottleneck features')\n",
    "train_data = np.load('bottleneck_features/train.npy')\n",
    "train_labels = load_labels('data_gen/train')\n",
    "\n",
    "print('Loading validation bottleneck features')\n",
    "validation_data = np.load('bottleneck_features/validation.npy')\n",
    "validation_labels = load_labels('data_gen/validation')"
   ]
  },
  {
   "cell_type": "code",
   "execution_count": 20,
   "metadata": {},
   "outputs": [
    {
     "name": "stdout",
     "output_type": "stream",
     "text": [
      "Defining model\n",
      "_________________________________________________________________\n",
      "Layer (type)                 Output Shape              Param #   \n",
      "=================================================================\n",
      "flatten_1 (Flatten)          (None, 2048)              0         \n",
      "_________________________________________________________________\n",
      "dropout_1 (Dropout)          (None, 2048)              0         \n",
      "_________________________________________________________________\n",
      "batch_normalization_1 (Batch (None, 2048)              8192      \n",
      "_________________________________________________________________\n",
      "dense_1 (Dense)              (None, 256)               524544    \n",
      "_________________________________________________________________\n",
      "batch_normalization_2 (Batch (None, 256)               1024      \n",
      "_________________________________________________________________\n",
      "dropout_2 (Dropout)          (None, 256)               0         \n",
      "_________________________________________________________________\n",
      "dense_2 (Dense)              (None, 128)               32896     \n",
      "_________________________________________________________________\n",
      "batch_normalization_3 (Batch (None, 128)               512       \n",
      "_________________________________________________________________\n",
      "dropout_3 (Dropout)          (None, 128)               0         \n",
      "_________________________________________________________________\n",
      "dense_3 (Dense)              (None, 120)               15480     \n",
      "=================================================================\n",
      "Total params: 582,648\n",
      "Trainable params: 577,784\n",
      "Non-trainable params: 4,864\n",
      "_________________________________________________________________\n"
     ]
    }
   ],
   "source": [
    "print('Defining model')\n",
    "model = Sequential()\n",
    "model.add(Flatten(input_shape = train_data.shape[1:]))\n",
    "model.add(Dropout(0.5))\n",
    "model.add(BatchNormalization())\n",
    "model.add(Dense(256, activation='relu', kernel_initializer='he_uniform'))\n",
    "model.add(BatchNormalization())\n",
    "model.add(Dropout(0.5))\n",
    "model.add(Dense(128, activation='relu', kernel_initializer='he_uniform'))\n",
    "model.add(BatchNormalization())\n",
    "model.add(Dropout(0.5))\n",
    "model.add(Dense(120, activation='softmax'))\n",
    "model.summary()\n",
    "model.compile(loss='categorical_crossentropy', optimizer='Adam', metrics=['accuracy'])"
   ]
  },
  {
   "cell_type": "code",
   "execution_count": 21,
   "metadata": {},
   "outputs": [],
   "source": [
    "checkpointer = ModelCheckpoint(filepath='saved_models/weights.best.hdf5', \n",
    "                               verbose=2, save_best_only=True)"
   ]
  },
  {
   "cell_type": "code",
   "execution_count": 22,
   "metadata": {},
   "outputs": [
    {
     "name": "stdout",
     "output_type": "stream",
     "text": [
      "Train on 7213 samples, validate on 3009 samples\n",
      "Epoch 1/75\n",
      "\n",
      "Epoch 00001: val_loss improved from inf to 3.26701, saving model to saved_models/weights.best.hdf5\n",
      " - 20s - loss: 4.9192 - acc: 0.0417 - val_loss: 3.2670 - val_acc: 0.3539\n",
      "Epoch 2/75\n",
      "\n",
      "Epoch 00002: val_loss improved from 3.26701 to 2.15533, saving model to saved_models/weights.best.hdf5\n",
      " - 3s - loss: 3.5646 - acc: 0.1833 - val_loss: 2.1553 - val_acc: 0.5287\n",
      "Epoch 3/75\n",
      "\n",
      "Epoch 00003: val_loss improved from 2.15533 to 1.60582, saving model to saved_models/weights.best.hdf5\n",
      " - 3s - loss: 2.8008 - acc: 0.3144 - val_loss: 1.6058 - val_acc: 0.6215\n",
      "Epoch 4/75\n",
      "\n",
      "Epoch 00004: val_loss improved from 1.60582 to 1.32107, saving model to saved_models/weights.best.hdf5\n",
      " - 3s - loss: 2.3154 - acc: 0.4001 - val_loss: 1.3211 - val_acc: 0.6677\n",
      "Epoch 5/75\n",
      "\n",
      "Epoch 00005: val_loss improved from 1.32107 to 1.15627, saving model to saved_models/weights.best.hdf5\n",
      " - 3s - loss: 2.0002 - acc: 0.4608 - val_loss: 1.1563 - val_acc: 0.6903\n",
      "Epoch 6/75\n",
      "\n",
      "Epoch 00006: val_loss improved from 1.15627 to 1.04750, saving model to saved_models/weights.best.hdf5\n",
      " - 3s - loss: 1.8278 - acc: 0.4920 - val_loss: 1.0475 - val_acc: 0.7069\n",
      "Epoch 7/75\n",
      "\n",
      "Epoch 00007: val_loss improved from 1.04750 to 0.98711, saving model to saved_models/weights.best.hdf5\n",
      " - 3s - loss: 1.6781 - acc: 0.5238 - val_loss: 0.9871 - val_acc: 0.7212\n",
      "Epoch 8/75\n",
      "\n",
      "Epoch 00008: val_loss improved from 0.98711 to 0.94339, saving model to saved_models/weights.best.hdf5\n",
      " - 3s - loss: 1.5757 - acc: 0.5489 - val_loss: 0.9434 - val_acc: 0.7258\n",
      "Epoch 9/75\n",
      "\n",
      "Epoch 00009: val_loss improved from 0.94339 to 0.90669, saving model to saved_models/weights.best.hdf5\n",
      " - 3s - loss: 1.4986 - acc: 0.5680 - val_loss: 0.9067 - val_acc: 0.7311\n",
      "Epoch 10/75\n",
      "\n",
      "Epoch 00010: val_loss improved from 0.90669 to 0.88319, saving model to saved_models/weights.best.hdf5\n",
      " - 3s - loss: 1.4102 - acc: 0.5803 - val_loss: 0.8832 - val_acc: 0.7361\n",
      "Epoch 11/75\n",
      "\n",
      "Epoch 00011: val_loss improved from 0.88319 to 0.85816, saving model to saved_models/weights.best.hdf5\n",
      " - 3s - loss: 1.3628 - acc: 0.5996 - val_loss: 0.8582 - val_acc: 0.7448\n",
      "Epoch 12/75\n",
      "\n",
      "Epoch 00012: val_loss improved from 0.85816 to 0.84439, saving model to saved_models/weights.best.hdf5\n",
      " - 3s - loss: 1.3248 - acc: 0.6032 - val_loss: 0.8444 - val_acc: 0.7365\n",
      "Epoch 13/75\n",
      "\n",
      "Epoch 00013: val_loss improved from 0.84439 to 0.83397, saving model to saved_models/weights.best.hdf5\n",
      " - 3s - loss: 1.2615 - acc: 0.6232 - val_loss: 0.8340 - val_acc: 0.7458\n",
      "Epoch 14/75\n",
      "\n",
      "Epoch 00014: val_loss improved from 0.83397 to 0.82323, saving model to saved_models/weights.best.hdf5\n",
      " - 3s - loss: 1.2390 - acc: 0.6264 - val_loss: 0.8232 - val_acc: 0.7458\n",
      "Epoch 15/75\n",
      "\n",
      "Epoch 00015: val_loss improved from 0.82323 to 0.81665, saving model to saved_models/weights.best.hdf5\n",
      " - 3s - loss: 1.2125 - acc: 0.6376 - val_loss: 0.8167 - val_acc: 0.7504\n",
      "Epoch 16/75\n",
      "\n",
      "Epoch 00016: val_loss improved from 0.81665 to 0.80259, saving model to saved_models/weights.best.hdf5\n",
      " - 4s - loss: 1.1962 - acc: 0.6395 - val_loss: 0.8026 - val_acc: 0.7468\n",
      "Epoch 17/75\n",
      "\n",
      "Epoch 00017: val_loss did not improve\n",
      " - 3s - loss: 1.1542 - acc: 0.6487 - val_loss: 0.8035 - val_acc: 0.7514\n",
      "Epoch 18/75\n",
      "\n",
      "Epoch 00018: val_loss improved from 0.80259 to 0.79869, saving model to saved_models/weights.best.hdf5\n",
      " - 3s - loss: 1.1609 - acc: 0.6527 - val_loss: 0.7987 - val_acc: 0.7504\n",
      "Epoch 19/75\n",
      "\n",
      "Epoch 00019: val_loss did not improve\n",
      " - 3s - loss: 1.1200 - acc: 0.6591 - val_loss: 0.8014 - val_acc: 0.7484\n",
      "Epoch 20/75\n",
      "\n",
      "Epoch 00020: val_loss did not improve\n",
      " - 3s - loss: 1.0828 - acc: 0.6698 - val_loss: 0.8036 - val_acc: 0.7488\n",
      "Epoch 21/75\n",
      "\n",
      "Epoch 00021: val_loss improved from 0.79869 to 0.79674, saving model to saved_models/weights.best.hdf5\n",
      " - 3s - loss: 1.0770 - acc: 0.6644 - val_loss: 0.7967 - val_acc: 0.7524\n",
      "Epoch 22/75\n",
      "\n",
      "Epoch 00022: val_loss improved from 0.79674 to 0.78537, saving model to saved_models/weights.best.hdf5\n",
      " - 3s - loss: 1.0762 - acc: 0.6678 - val_loss: 0.7854 - val_acc: 0.7597\n",
      "Epoch 23/75\n",
      "\n",
      "Epoch 00023: val_loss improved from 0.78537 to 0.78144, saving model to saved_models/weights.best.hdf5\n",
      " - 3s - loss: 1.0686 - acc: 0.6698 - val_loss: 0.7814 - val_acc: 0.7547\n",
      "Epoch 24/75\n",
      "\n",
      "Epoch 00024: val_loss did not improve\n",
      " - 3s - loss: 1.0253 - acc: 0.6827 - val_loss: 0.7867 - val_acc: 0.7611\n",
      "Epoch 25/75\n",
      "\n",
      "Epoch 00025: val_loss did not improve\n",
      " - 3s - loss: 1.0373 - acc: 0.6846 - val_loss: 0.7853 - val_acc: 0.7557\n",
      "Epoch 26/75\n",
      "\n",
      "Epoch 00026: val_loss did not improve\n",
      " - 3s - loss: 1.0165 - acc: 0.6815 - val_loss: 0.7860 - val_acc: 0.7561\n",
      "Epoch 27/75\n",
      "\n",
      "Epoch 00027: val_loss did not improve\n",
      " - 3s - loss: 0.9933 - acc: 0.6888 - val_loss: 0.7874 - val_acc: 0.7521\n",
      "Epoch 28/75\n",
      "\n",
      "Epoch 00028: val_loss improved from 0.78144 to 0.78040, saving model to saved_models/weights.best.hdf5\n",
      " - 3s - loss: 0.9872 - acc: 0.6943 - val_loss: 0.7804 - val_acc: 0.7547\n",
      "Epoch 29/75\n",
      "\n",
      "Epoch 00029: val_loss did not improve\n",
      " - 3s - loss: 0.9821 - acc: 0.6914 - val_loss: 0.7888 - val_acc: 0.7534\n",
      "Epoch 30/75\n",
      "\n",
      "Epoch 00030: val_loss did not improve\n",
      " - 3s - loss: 0.9704 - acc: 0.6975 - val_loss: 0.7851 - val_acc: 0.7557\n",
      "Epoch 31/75\n",
      "\n",
      "Epoch 00031: val_loss did not improve\n",
      " - 3s - loss: 0.9661 - acc: 0.6974 - val_loss: 0.7814 - val_acc: 0.7564\n",
      "Epoch 32/75\n",
      "\n",
      "Epoch 00032: val_loss improved from 0.78040 to 0.77806, saving model to saved_models/weights.best.hdf5\n",
      " - 3s - loss: 0.9587 - acc: 0.7021 - val_loss: 0.7781 - val_acc: 0.7574\n",
      "Epoch 33/75\n",
      "\n",
      "Epoch 00033: val_loss did not improve\n",
      " - 3s - loss: 0.9480 - acc: 0.7039 - val_loss: 0.7915 - val_acc: 0.7561\n",
      "Epoch 34/75\n",
      "\n",
      "Epoch 00034: val_loss did not improve\n",
      " - 3s - loss: 0.9417 - acc: 0.7083 - val_loss: 0.7781 - val_acc: 0.7571\n",
      "Epoch 35/75\n",
      "\n",
      "Epoch 00035: val_loss improved from 0.77806 to 0.77549, saving model to saved_models/weights.best.hdf5\n",
      " - 3s - loss: 0.9279 - acc: 0.7129 - val_loss: 0.7755 - val_acc: 0.7574\n",
      "Epoch 36/75\n",
      "\n",
      "Epoch 00036: val_loss did not improve\n",
      " - 3s - loss: 0.9167 - acc: 0.7075 - val_loss: 0.7797 - val_acc: 0.7574\n",
      "Epoch 37/75\n",
      "\n",
      "Epoch 00037: val_loss did not improve\n",
      " - 3s - loss: 0.9068 - acc: 0.7152 - val_loss: 0.7796 - val_acc: 0.7584\n",
      "Epoch 38/75\n",
      "\n",
      "Epoch 00038: val_loss did not improve\n",
      " - 3s - loss: 0.8727 - acc: 0.7241 - val_loss: 0.7810 - val_acc: 0.7561\n",
      "Epoch 39/75\n",
      "\n",
      "Epoch 00039: val_loss did not improve\n",
      " - 3s - loss: 0.8772 - acc: 0.7222 - val_loss: 0.7894 - val_acc: 0.7650\n",
      "Epoch 40/75\n",
      "\n",
      "Epoch 00040: val_loss did not improve\n",
      " - 3s - loss: 0.8824 - acc: 0.7162 - val_loss: 0.7823 - val_acc: 0.7581\n",
      "Epoch 41/75\n",
      "\n",
      "Epoch 00041: val_loss did not improve\n",
      " - 3s - loss: 0.8934 - acc: 0.7186 - val_loss: 0.7876 - val_acc: 0.7567\n",
      "Epoch 42/75\n",
      "\n",
      "Epoch 00042: val_loss did not improve\n",
      " - 3s - loss: 0.8666 - acc: 0.7256 - val_loss: 0.7874 - val_acc: 0.7644\n",
      "Epoch 43/75\n",
      "\n",
      "Epoch 00043: val_loss did not improve\n",
      " - 3s - loss: 0.8781 - acc: 0.7211 - val_loss: 0.7940 - val_acc: 0.7547\n",
      "Epoch 44/75\n",
      "\n",
      "Epoch 00044: val_loss did not improve\n",
      " - 3s - loss: 0.8638 - acc: 0.7218 - val_loss: 0.7926 - val_acc: 0.7644\n",
      "Epoch 45/75\n",
      "\n",
      "Epoch 00045: val_loss did not improve\n",
      " - 2s - loss: 0.8693 - acc: 0.7219 - val_loss: 0.7914 - val_acc: 0.7660\n",
      "Epoch 46/75\n",
      "\n",
      "Epoch 00046: val_loss did not improve\n",
      " - 3s - loss: 0.8453 - acc: 0.7297 - val_loss: 0.7951 - val_acc: 0.7577\n",
      "Epoch 47/75\n",
      "\n",
      "Epoch 00047: val_loss did not improve\n",
      " - 3s - loss: 0.8637 - acc: 0.7247 - val_loss: 0.7926 - val_acc: 0.7524\n",
      "Epoch 48/75\n",
      "\n",
      "Epoch 00048: val_loss did not improve\n",
      " - 3s - loss: 0.8300 - acc: 0.7402 - val_loss: 0.7951 - val_acc: 0.7601\n",
      "Epoch 49/75\n",
      "\n",
      "Epoch 00049: val_loss did not improve\n",
      " - 3s - loss: 0.8205 - acc: 0.7402 - val_loss: 0.7900 - val_acc: 0.7587\n",
      "Epoch 50/75\n",
      "\n",
      "Epoch 00050: val_loss did not improve\n",
      " - 3s - loss: 0.8507 - acc: 0.7306 - val_loss: 0.7830 - val_acc: 0.7627\n",
      "Epoch 51/75\n",
      "\n",
      "Epoch 00051: val_loss did not improve\n",
      " - 3s - loss: 0.8214 - acc: 0.7383 - val_loss: 0.7869 - val_acc: 0.7634\n",
      "Epoch 52/75\n",
      "\n",
      "Epoch 00052: val_loss did not improve\n",
      " - 3s - loss: 0.8432 - acc: 0.7301 - val_loss: 0.7902 - val_acc: 0.7614\n",
      "Epoch 53/75\n",
      "\n",
      "Epoch 00053: val_loss did not improve\n",
      " - 3s - loss: 0.8182 - acc: 0.7341 - val_loss: 0.7868 - val_acc: 0.7617\n",
      "Epoch 54/75\n",
      "\n",
      "Epoch 00054: val_loss did not improve\n",
      " - 3s - loss: 0.8251 - acc: 0.7420 - val_loss: 0.7912 - val_acc: 0.7620\n",
      "Epoch 55/75\n",
      "\n"
     ]
    },
    {
     "name": "stdout",
     "output_type": "stream",
     "text": [
      "Epoch 00055: val_loss did not improve\n",
      " - 2s - loss: 0.8040 - acc: 0.7435 - val_loss: 0.7878 - val_acc: 0.7640\n",
      "Epoch 56/75\n",
      "\n",
      "Epoch 00056: val_loss did not improve\n",
      " - 3s - loss: 0.8067 - acc: 0.7428 - val_loss: 0.7918 - val_acc: 0.7650\n",
      "Epoch 57/75\n",
      "\n",
      "Epoch 00057: val_loss did not improve\n",
      " - 3s - loss: 0.8071 - acc: 0.7414 - val_loss: 0.8081 - val_acc: 0.7634\n",
      "Epoch 58/75\n",
      "\n",
      "Epoch 00058: val_loss did not improve\n",
      " - 3s - loss: 0.8191 - acc: 0.7381 - val_loss: 0.7936 - val_acc: 0.7654\n",
      "Epoch 59/75\n",
      "\n",
      "Epoch 00059: val_loss did not improve\n",
      " - 3s - loss: 0.8052 - acc: 0.7471 - val_loss: 0.7980 - val_acc: 0.7617\n",
      "Epoch 60/75\n",
      "\n",
      "Epoch 00060: val_loss did not improve\n",
      " - 3s - loss: 0.7814 - acc: 0.7531 - val_loss: 0.7986 - val_acc: 0.7601\n",
      "Epoch 61/75\n",
      "\n",
      "Epoch 00061: val_loss did not improve\n",
      " - 3s - loss: 0.7810 - acc: 0.7517 - val_loss: 0.7963 - val_acc: 0.7574\n",
      "Epoch 62/75\n",
      "\n",
      "Epoch 00062: val_loss did not improve\n",
      " - 3s - loss: 0.7872 - acc: 0.7498 - val_loss: 0.7898 - val_acc: 0.7607\n",
      "Epoch 63/75\n",
      "\n",
      "Epoch 00063: val_loss did not improve\n",
      " - 3s - loss: 0.7910 - acc: 0.7471 - val_loss: 0.7893 - val_acc: 0.7587\n",
      "Epoch 64/75\n",
      "\n",
      "Epoch 00064: val_loss did not improve\n",
      " - 3s - loss: 0.7721 - acc: 0.7549 - val_loss: 0.7928 - val_acc: 0.7614\n",
      "Epoch 65/75\n",
      "\n",
      "Epoch 00065: val_loss did not improve\n",
      " - 3s - loss: 0.7847 - acc: 0.7554 - val_loss: 0.7925 - val_acc: 0.7577\n",
      "Epoch 66/75\n",
      "\n",
      "Epoch 00066: val_loss did not improve\n",
      " - 3s - loss: 0.7460 - acc: 0.7611 - val_loss: 0.7961 - val_acc: 0.7597\n",
      "Epoch 67/75\n",
      "\n",
      "Epoch 00067: val_loss did not improve\n",
      " - 3s - loss: 0.7680 - acc: 0.7561 - val_loss: 0.8005 - val_acc: 0.7617\n",
      "Epoch 68/75\n",
      "\n",
      "Epoch 00068: val_loss did not improve\n",
      " - 3s - loss: 0.7610 - acc: 0.7615 - val_loss: 0.7921 - val_acc: 0.7670\n",
      "Epoch 69/75\n",
      "\n",
      "Epoch 00069: val_loss did not improve\n",
      " - 3s - loss: 0.7566 - acc: 0.7581 - val_loss: 0.7978 - val_acc: 0.7647\n",
      "Epoch 70/75\n",
      "\n",
      "Epoch 00070: val_loss did not improve\n",
      " - 2s - loss: 0.7548 - acc: 0.7613 - val_loss: 0.7950 - val_acc: 0.7630\n",
      "Epoch 71/75\n",
      "\n",
      "Epoch 00071: val_loss did not improve\n",
      " - 3s - loss: 0.7635 - acc: 0.7590 - val_loss: 0.7951 - val_acc: 0.7624\n",
      "Epoch 72/75\n",
      "\n",
      "Epoch 00072: val_loss did not improve\n",
      " - 3s - loss: 0.7951 - acc: 0.7500 - val_loss: 0.7974 - val_acc: 0.7627\n",
      "Epoch 73/75\n",
      "\n",
      "Epoch 00073: val_loss did not improve\n",
      " - 3s - loss: 0.7567 - acc: 0.7586 - val_loss: 0.7919 - val_acc: 0.7650\n",
      "Epoch 74/75\n",
      "\n",
      "Epoch 00074: val_loss did not improve\n",
      " - 3s - loss: 0.7535 - acc: 0.7615 - val_loss: 0.7910 - val_acc: 0.7594\n",
      "Epoch 75/75\n",
      "\n",
      "Epoch 00075: val_loss did not improve\n",
      " - 3s - loss: 0.7148 - acc: 0.7732 - val_loss: 0.7971 - val_acc: 0.7630\n"
     ]
    }
   ],
   "source": [
    "epochs = 75\n",
    "batch_size = 64\n",
    "history = model.fit(train_data, train_labels,\n",
    "                    validation_data=(validation_data, validation_labels),\n",
    "                    epochs=epochs, batch_size=batch_size,\n",
    "                    callbacks=[checkpointer], verbose=2)"
   ]
  },
  {
   "cell_type": "code",
   "execution_count": 23,
   "metadata": {},
   "outputs": [
    {
     "data": {
      "text/plain": [
       "1"
      ]
     },
     "execution_count": 23,
     "metadata": {},
     "output_type": "execute_result"
    }
   ],
   "source": [
    "## Testing\n",
    "\n",
    "model.load_weights('saved_models/weights.best.hdf5')\n",
    "\n",
    "train_labels = np.array(pd.read_csv('labels.csv'))\n",
    "classes, counts = np.unique(train_labels[:, 1], return_counts=True)\n",
    "\n",
    "f = open('results.csv', 'w')\n",
    "f.write('id')\n",
    "for c in classes:\n",
    "    f.write(',' + c)\n",
    "f.write('\\n')"
   ]
  },
  {
   "cell_type": "code",
   "execution_count": 24,
   "metadata": {},
   "outputs": [],
   "source": [
    "#generate_bottleneck_features_test()"
   ]
  },
  {
   "cell_type": "code",
   "execution_count": 25,
   "metadata": {},
   "outputs": [],
   "source": [
    "test = np.load('bottleneck_features/test.npy')\n"
   ]
  },
  {
   "cell_type": "code",
   "execution_count": 26,
   "metadata": {},
   "outputs": [],
   "source": [
    "output = model.predict(test)"
   ]
  },
  {
   "cell_type": "code",
   "execution_count": 27,
   "metadata": {},
   "outputs": [],
   "source": [
    "filenames = os.listdir('test')\n",
    "for [o, name] in zip(output, filenames):\n",
    "    f.write(name[:-4] + ',')\n",
    "    o.tofile(f, sep=',', format='%.17f')\n",
    "    f.write('\\n')\n",
    "\n",
    "f.close()"
   ]
  },
  {
   "cell_type": "code",
   "execution_count": null,
   "metadata": {},
   "outputs": [],
   "source": []
  }
 ],
 "metadata": {
  "kernelspec": {
   "display_name": "Python 3",
   "language": "python",
   "name": "python3"
  },
  "language_info": {
   "codemirror_mode": {
    "name": "ipython",
    "version": 3
   },
   "file_extension": ".py",
   "mimetype": "text/x-python",
   "name": "python",
   "nbconvert_exporter": "python",
   "pygments_lexer": "ipython3",
   "version": "3.6.4"
  }
 },
 "nbformat": 4,
 "nbformat_minor": 2
}
